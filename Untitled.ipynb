{
 "cells": [
  {
   "cell_type": "code",
   "execution_count": 1,
   "id": "93d0cd3a-7675-42da-8896-59f0095d9863",
   "metadata": {
    "tags": []
   },
   "outputs": [
    {
     "name": "stdout",
     "output_type": "stream",
     "text": [
      "['https://www.uszczelki-market.pl/sklep/uszczelki-gumowe?tel=krakow', 'https://allegro.pl/kategoria/drzwi-uszczelki-254606?city=Krak%C3%B3w', 'https://sklep.regmot.com.pl/produkty/karoseria/pozostale-elementy-karoserii/uszczelki-gumowe-samochodowe,2,14906', 'https://www.cylex-polska.pl/krakow/uszczelki.html', 'https://deler.pl/c/uszczelki', 'https://www.olx.pl/motoryzacja/czesci-samochodowe/krakow/q-uszczelki-drzwi/', 'https://e-guma.pl/pl/c/Uszczelki-do-drzwi-samochodowe/88', 'https://teraz-otwarte.pl/krakow/fhu-kompresja-uszczelki-samochodowe-160814', 'https://uszczelki24.pl/index.php?k35,uszczelki-samozaciskowe-krawedziowe-uszczelka-samochodowa', 'https://www.pkt.pl/szukaj/uszczelki%2C-zawory/krak%C3%B3w']\n"
     ]
    }
   ],
   "source": [
    "from googlesearch import search\n",
    "\n",
    "query = \"uszczelki do samochodów Kraków\"\n",
    "num_results = 10  # liczba wyników do pobrania\n",
    "\n",
    "results = []\n",
    "for result in search(query, num_results=num_results):\n",
    "    results.append(result)\n",
    "    \n",
    "print(results)"
   ]
  },
  {
   "cell_type": "code",
   "execution_count": null,
   "id": "3cc8c41e-6f95-4b9b-b2b4-640d1110b213",
   "metadata": {},
   "outputs": [],
   "source": []
  }
 ],
 "metadata": {
  "kernelspec": {
   "display_name": "Python 3 (ipykernel)",
   "language": "python",
   "name": "python3"
  },
  "language_info": {
   "codemirror_mode": {
    "name": "ipython",
    "version": 3
   },
   "file_extension": ".py",
   "mimetype": "text/x-python",
   "name": "python",
   "nbconvert_exporter": "python",
   "pygments_lexer": "ipython3",
   "version": "3.11.0"
  }
 },
 "nbformat": 4,
 "nbformat_minor": 5
}
